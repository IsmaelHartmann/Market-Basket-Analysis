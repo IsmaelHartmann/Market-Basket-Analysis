{
  "cells": [
    {
      "cell_type": "code",
      "execution_count": null,
      "metadata": {
        "id": "k1eGJAfHHrjF"
      },
      "outputs": [],
      "source": [
        "!pip install apyori"
      ]
    },
    {
      "cell_type": "code",
      "execution_count": null,
      "metadata": {
        "colab": {
          "background_save": true
        },
        "id": "-F9Cd4a3bKJ0"
      },
      "outputs": [],
      "source": [
        "!sudo dpkg-reconfigure locales"
      ]
    },
    {
      "cell_type": "code",
      "source": [
        "import pandas as pd\n",
        "from datetime import datetime\n",
        "import locale\n",
        "import numpy as np\n",
        "from apyori import apriori\n",
        "import json\n",
        "import calendar\n"
      ],
      "metadata": {
        "id": "WxeHfEPKpk08"
      },
      "execution_count": null,
      "outputs": []
    },
    {
      "cell_type": "markdown",
      "source": [
        "# Create Functions"
      ],
      "metadata": {
        "id": "v-ZFpWaMp68R"
      }
    },
    {
      "cell_type": "code",
      "execution_count": null,
      "metadata": {
        "id": "A7o4_ZD5DSfO"
      },
      "outputs": [],
      "source": [
        "\n",
        "def converteTurno(x):\n",
        "    if (x > 0) and (x <= 12):\n",
        "        return 'Manhã'\n",
        "    elif (x > 12) and (x <= 18 ):\n",
        "        return 'Tarde'\n",
        "    elif (x > 18):\n",
        "        return'Noite'\n",
        "\n",
        "def retiraBrancos(x):\n",
        "    if ('nan' != x and '' != x):\n",
        "        return x\n",
        "\n",
        "def myJsonNormalize(data):\n",
        "  return pd.json_normalize(data,record_path =['items'],meta=['codigo','hora','data','valorTotal','status',['cliente','genero'],['cliente','dataNascimento'],['enderecoEntrega','bairro'],['enderecoEntrega','cidade'],'quantidadeItemUnico',['loja','nome']],errors='ignore',record_prefix='item_')\n",
        "\n",
        "def week_of_month(date):\n",
        "    calendar.setfirstweekday(6)\n",
        "    month = pd.to_datetime(date, format='%Y-%m-%d').month\n",
        "    year = pd.to_datetime(date, format='%Y-%m-%d').year\n",
        "    day = pd.to_datetime(date, format='%Y-%m-%d').day\n",
        "    x = np.array(calendar.monthcalendar(year, month))\n",
        "    week_of_month = np.where(x==day)[0][0] + 1\n",
        "\n",
        "    return week_of_month\n",
        "\n",
        "def listToStringWithoutBrackets(list1):\n",
        "    ##return str(list1).replace('[\\'','').replace('\\']','').replace('\\'','')\n",
        "    return str(list1).replace('[','').replace(']','').replace('\\'','')\n"
      ]
    },
    {
      "cell_type": "markdown",
      "metadata": {
        "id": "CyWzGGtNEh69"
      },
      "source": [
        "# Select Data"
      ]
    },
    {
      "cell_type": "code",
      "execution_count": null,
      "metadata": {
        "colab": {
          "background_save": true
        },
        "id": "8bqJHUxtWP8B"
      },
      "outputs": [],
      "source": [
        "from google.colab import drive\n",
        "drive.mount('/content/drive')"
      ]
    },
    {
      "cell_type": "code",
      "execution_count": null,
      "metadata": {
        "id": "M8sWHeBVNlZA"
      },
      "outputs": [],
      "source": [
        "data=json.loads(open('/content/drive/MyDrive/Colab Notebooks/Pedidos/pedidos06_2020.json','r').read())\n",
        "myretaildata06 = myJsonNormalize(data)\n",
        "data=json.loads(open('/content/drive/MyDrive/Colab Notebooks/Pedidos/pedidos07_2020.json','r').read())\n",
        "myretaildata07 = myJsonNormalize(data)\n",
        "data=json.loads(open('/content/drive/MyDrive/Colab Notebooks/Pedidos/pedidos08_2020.json','r').read())\n",
        "myretaildata08 = myJsonNormalize(data)\n",
        "data=json.loads(open('/content/drive/MyDrive/Colab Notebooks/Pedidos/pedidos09_2020.json','r').read())\n",
        "myretaildata09 = myJsonNormalize(data)\n",
        "data=json.loads(open('/content/drive/MyDrive/Colab Notebooks/Pedidos/pedidos10_2020.json','r').read())\n",
        "myretaildata10 = myJsonNormalize(data)\n",
        "data=json.loads(open('/content/drive/MyDrive/Colab Notebooks/Pedidos/pedidos11_2020.json','r').read())\n",
        "myretaildata11 = myJsonNormalize(data)\n",
        "data=json.loads(open('/content/drive/MyDrive/Colab Notebooks/Pedidos/pedidos12_2020.json','r').read())\n",
        "myretaildata12 = myJsonNormalize(data)\n",
        "data=json.loads(open('/content/drive/MyDrive/Colab Notebooks/Pedidos/pedidos01_2021.json','r').read())\n",
        "myretaildata01 = myJsonNormalize(data)\n",
        "data=json.loads(open('/content/drive/MyDrive/Colab Notebooks/Pedidos/pedidos02_2021.json','r').read())\n",
        "myretaildata02 = myJsonNormalize(data)\n",
        "data=json.loads(open('/content/drive/MyDrive/Colab Notebooks/Pedidos/pedidos03_2021.json','r').read())\n",
        "myretaildata03 = myJsonNormalize(data)\n",
        "data=json.loads(open('/content/drive/MyDrive/Colab Notebooks/Pedidos/pedidos04_2021.json','r').read())\n",
        "myretaildata04 = myJsonNormalize(data)\n",
        "data=json.loads(open('/content/drive/MyDrive/Colab Notebooks/Pedidos/pedidos05_2021.json','r').read())\n",
        "myretaildata05 = myJsonNormalize(data)\n",
        "data=json.loads(open('/content/drive/MyDrive/Colab Notebooks/Pedidos/pedidos06_2021.json','r').read())\n",
        "myretaildata0621 = myJsonNormalize(data)\n",
        "data=json.loads(open('/content/drive/MyDrive/Colab Notebooks/Pedidos/pedidos07_2021.json','r').read())\n",
        "myretaildata0721 = myJsonNormalize(data)\n",
        "data=json.loads(open('/content/drive/MyDrive/Colab Notebooks/Pedidos/pedidos08_2021.json','r').read())\n",
        "myretaildata0821 = myJsonNormalize(data)\n",
        "data=json.loads(open('/content/drive/MyDrive/Colab Notebooks/Pedidos/pedidos09_2021.json','r').read())\n",
        "myretaildata0921 = myJsonNormalize(data)\n",
        "data=json.loads(open('/content/drive/MyDrive/Colab Notebooks/Pedidos/pedidos10_2021.json','r').read())\n",
        "myretaildata1021 = myJsonNormalize(data)\n",
        "data=json.loads(open('/content/drive/MyDrive/Colab Notebooks/Pedidos/pedidos11_2021.json','r').read())\n",
        "myretaildata1121 = myJsonNormalize(data)\n",
        "\n",
        "## testar se existe se não gera\n",
        "print(len(myretaildata06.index))\n",
        "print(len(myretaildata07.index))\n",
        "print(len(myretaildata08.index))\n",
        "print(len(myretaildata09.index))\n",
        "print(len(myretaildata10.index))\n",
        "print(len(myretaildata11.index))\n",
        "print(len(myretaildata12.index))\n",
        "print(len(myretaildata01.index))\n",
        "print(len(myretaildata02.index))\n",
        "print(len(myretaildata03.index))\n",
        "print(len(myretaildata04.index))\n",
        "print(len(myretaildata05.index))\n",
        "print(len(myretaildata0621.index))\n",
        "print(len(myretaildata0721.index))\n",
        "print(len(myretaildata0821.index))\n",
        "print(len(myretaildata0921.index))\n",
        "print(len(myretaildata1021.index))\n",
        "print(len(myretaildata1121.index))\n",
        "\n",
        "myretaildata= pd.concat([myretaildata0821,myretaildata0921,myretaildata1021,myretaildata1121],ignore_index=True)\n",
        "print(len(myretaildata.index))\n",
        "myretaildata = myretaildata[myretaildata.status != \"CAN\"]\n"
      ]
    },
    {
      "cell_type": "markdown",
      "source": [
        "# Processing"
      ],
      "metadata": {
        "id": "EzTb-zc4pmT4"
      }
    },
    {
      "cell_type": "code",
      "execution_count": null,
      "metadata": {
        "id": "OsH2r8inDisC"
      },
      "outputs": [],
      "source": [
        "myretaildata[\"data\"].groupby(myretaildata[\"data\"].astype(\"datetime64\").dt.to_period('m')).count().rename(lambda x: x.strftime('%B %Y')).plot(kind=\"bar\")"
      ]
    },
    {
      "cell_type": "code",
      "execution_count": null,
      "metadata": {
        "colab": {
          "base_uri": "https://localhost:8080/"
        },
        "id": "Y3JNhakWDSfl",
        "outputId": "6e510289-0e33-4d84-e18a-1683817a8d4b"
      },
      "outputs": [
        {
          "name": "stderr",
          "output_type": "stream",
          "text": [
            "/usr/local/lib/python3.7/dist-packages/ipykernel_launcher.py:12: FutureWarning: The pandas.datetime class is deprecated and will be removed from pandas in a future version. Import from datetime module instead.\n",
            "  if sys.path[0] == '':\n"
          ]
        }
      ],
      "source": [
        "locale.setlocale(locale.LC_ALL, 'pt_BR.utf8')\n",
        "myretail = pd.DataFrame({})\n",
        "myretail['Codigo'] = myretaildata['codigo'].astype('str')\n",
        "myretail['Item'] = myretaildata['item_produto'].astype('str')\n",
        "myretail['Turno'] = myretaildata['hora'].str[:2].astype('int').apply(converteTurno)\n",
        "myretail['Hora'] = 'Hora: ' + myretaildata['hora'].str[:2]\n",
        "myretail['DiaDaSemana'] = pd.to_datetime(myretaildata['data'], format='%Y-%m-%dT%H:%M:%S').dt.day_name(locale='pt_BR.UTF8')\n",
        "myretail['SemanaDoMes'] = 'Semana: ' + pd.to_datetime(myretaildata['data'], format='%Y-%m-%d').astype('str').apply(week_of_month).astype('str')\n",
        "myretail['data'] =  pd.to_datetime(myretaildata['data'], format='%Y-%m-%d').astype('str')\n",
        "myretail['Genero'] = 'Gênero: ' + myretaildata['cliente.genero'].fillna('Não informado').astype('str')\n",
        "myretail['GrupoValorTotal'] = 'Valores entre ' + pd.qcut(myretaildata['valorTotal'],q=3).astype('str')\n",
        "myretail[\"Idade\"] = pd.to_datetime(myretaildata['cliente.dataNascimento'], format='%Y-%m-%d', errors = 'coerce').apply(lambda x : (pd.datetime.now().year - x.year))\n",
        "myretail['GrupoIdade'] = 'Idade entre: ' + pd.cut(myretail.Idade,bins=[0,30,40,50,130],labels=['Até 30 anos','Entre 30-40 anos','Entre 40-50 anos','Maiores de 40 anos']).cat.add_categories('Não informado').fillna('Não informado').astype('str')\n",
        "myretail['Bairro'] = 'Bairro: ' + myretaildata['enderecoEntrega.bairro'].astype('str').fillna('') + ' - ' +myretaildata['enderecoEntrega.cidade'].fillna('').astype('str')\n",
        "myretail['GrupoQuantidade'] = 'Quantidade entre: ' + pd.qcut(myretaildata['quantidadeItemUnico'],q=3).astype('str')\n",
        "myretail['Loja'] = myretaildata['loja.nome'].astype('str')\n",
        "myretail['GrupoIdade'] = myretail['GrupoIdade'].replace(\"Idade entre: Não informado\", \"\")\n",
        "myretail['Genero'] = myretail['Genero'].replace(\"Gênero: Não informado\",\"\")"
      ]
    },
    {
      "cell_type": "code",
      "execution_count": null,
      "metadata": {
        "colab": {
          "base_uri": "https://localhost:8080/"
        },
        "id": "PfOxYjAfYDoD",
        "outputId": "9609a89c-f454-4680-d7fd-6f6779430b25"
      },
      "outputs": [
        {
          "name": "stdout",
          "output_type": "stream",
          "text": [
            "2902\n"
          ]
        }
      ],
      "source": [
        "mybasket = myretail.groupby(['Codigo','Item'])['Item'].last().unstack().reset_index().fillna('')\n",
        "print(len(mybasket))"
      ]
    },
    {
      "cell_type": "markdown",
      "source": [
        "#Data Transformation"
      ],
      "metadata": {
        "id": "D10S3KxHqRsB"
      }
    },
    {
      "cell_type": "code",
      "execution_count": null,
      "metadata": {
        "id": "4sRaZW0Cnu32"
      },
      "outputs": [],
      "source": [
        "myretail = myretail[myretail.Genero != \"\"]\n",
        "myretail = myretail[myretail.GrupoIdade != \"\"]\n",
        "myretail = myretail[myretail.SemanaDoMes != \"Semana: 6\"]\n",
        "mybasket = myretail.groupby(['Codigo','Turno','DiaDaSemana','SemanaDoMes','Genero','GrupoIdade','GrupoQuantidade','Loja'])['Codigo'].last().unstack().reset_index().fillna('')"
      ]
    },
    {
      "cell_type": "code",
      "execution_count": null,
      "metadata": {
        "id": "2nRaJLdmH2nn"
      },
      "outputs": [],
      "source": [
        "print('\\033[1m Total de Pedidos:' + str(len(mybasket)) + '\\033[0m')\n",
        "mybasket[\"data\"].groupby(mybasket[\"data\"].astype(\"datetime64\").dt.to_period('m')).count().rename(lambda x: x.strftime('%B %Y')).plot(kind=\"bar\", figsize=(12, 8), color='#86bf91', zorder=9, width=0.85,fontsize=16)"
      ]
    },
    {
      "cell_type": "code",
      "execution_count": null,
      "metadata": {
        "colab": {
          "base_uri": "https://localhost:8080/",
          "height": 590
        },
        "id": "GMGYkQw2EuR1",
        "outputId": "a06a280d-e4e3-4fcc-9037-be67a18a5138"
      },
      "outputs": [
        {
          "name": "stdout",
          "output_type": "stream",
          "text": [
            "\u001b[1m Total de Pedidos:24811\u001b[0m\n"
          ]
        },
        {
          "data": {
            "text/plain": [
              "<matplotlib.axes._subplots.AxesSubplot at 0x7f573c7bcf50>"
            ]
          },
          "execution_count": 28,
          "metadata": {
            "tags": []
          },
          "output_type": "execute_result"
        },
        {
          "data": {
            "image/png": "[encoded data removed]",
            "text/plain": [
              "<Figure size 864x576 with 1 Axes>"
            ]
          },
          "metadata": {
            "tags": []
          },
          "output_type": "display_data"
        }
      ],
      "source": [
        "\n",
        "#mybasket[\"GrupoIdade\"].groupby(mybasket[\"GrupoIdade\"]).count().plot(kind=\"bar\", figsize=(12, 8), color='#86bf91', zorder=9, width=0.85,fontsize=16)\n",
        "mybasket[\"Hora\"].groupby(mybasket[\"Hora\"]).count().plot(kind=\"bar\", figsize=(12, 8), color='#86bf91', zorder=9, width=0.85,fontsize=16)"
      ]
    },
    {
      "cell_type": "code",
      "execution_count": null,
      "metadata": {
        "id": "Krh8cKPnIq0a"
      },
      "outputs": [],
      "source": [
        "mybasket[\"DiaDaSemana\"].groupby(mybasket[\"DiaDaSemana\"]).count().plot(kind=\"bar\", figsize=(12, 8), color='#86bf91', zorder=9, width=0.85,fontsize=16)"
      ]
    },
    {
      "cell_type": "code",
      "execution_count": null,
      "metadata": {
        "id": "KCEcutHQLOZK"
      },
      "outputs": [],
      "source": [
        "mybasket[\"Turno\"].groupby(mybasket[\"Turno\"]).count().plot(kind=\"bar\", figsize=(12, 8), color='#86bf91', zorder=9, width=0.85,fontsize=16)"
      ]
    },
    {
      "cell_type": "code",
      "execution_count": null,
      "metadata": {
        "id": "SREhxNxLx8hU"
      },
      "outputs": [],
      "source": [
        "myMBA = myretail.groupby(['Codigo','Item'])['Item'].last().unstack().reset_index().fillna('')"
      ]
    },
    {
      "cell_type": "code",
      "execution_count": null,
      "metadata": {
        "id": "yT8R1B-wyNDi"
      },
      "outputs": [],
      "source": [
        "myBasketHora = myretail.groupby(['Codigo','Hora','Item'])['Item'].last().unstack().reset_index().fillna('')"
      ]
    },
    {
      "cell_type": "code",
      "execution_count": null,
      "metadata": {
        "id": "tJgSJntsyaOe"
      },
      "outputs": [],
      "source": [
        "myBasketTurno = myretail.groupby(['Codigo','Turno','Item'])['Item'].last().unstack().reset_index().fillna('')"
      ]
    },
    {
      "cell_type": "code",
      "execution_count": null,
      "metadata": {
        "id": "kAKOxePuyjEr"
      },
      "outputs": [],
      "source": [
        "myBasketGrupoIdade = myretail.groupby(['Codigo','GrupoIdade','Item'])['Item'].last().unstack().reset_index().fillna('')"
      ]
    },
    {
      "cell_type": "code",
      "execution_count": null,
      "metadata": {
        "id": "rg8Ol2dhRr8h"
      },
      "outputs": [],
      "source": [
        "myretail.to_excel('/content/drive/MyDrive/Colab Notebooks/Associations/Pedidos-SiteMercado.xlsx')"
      ]
    },
    {
      "cell_type": "code",
      "execution_count": null,
      "metadata": {
        "id": "ldRvOGglDSfp",
        "scrolled": false
      },
      "outputs": [],
      "source": [
        "\n",
        "mybasket = mybasket\n",
        "transacoes = []\n",
        "\n",
        "for i in range (0,len(mybasket.index)):\n",
        "    transacoes.append([str(mybasket.values[i,j]) for j in range(0,len(mybasket.columns))])\n",
        "\n",
        "for i in range(len(transacoes)):\n",
        "    transacoes[i] = list(filter(retiraBrancos, transacoes[i]))\n"
      ]
    },
    {
      "cell_type": "code",
      "execution_count": null,
      "metadata": {
        "colab": {
          "base_uri": "https://localhost:8080/"
        },
        "id": "AmZM2BVpfkq5",
        "outputId": "61521270-0308-4352-cfa2-29a9d568a9c7"
      },
      "outputs": [
        {
          "name": "stdout",
          "output_type": "stream",
          "text": [
            "File written successfully\n"
          ]
        }
      ],
      "source": [
        "\n",
        "l = transacoes\n",
        "\n",
        "# open file\n",
        "with open('/content/drive/MyDrive/Colab Notebooks/Associations/list.txt', 'w+') as f:\n",
        "\n",
        "    # write elements of list\n",
        "    for items in l:\n",
        "        f.write('%s\\n' %items)\n",
        "\n",
        "    print(\"File written successfully\")\n",
        "\n",
        "\n",
        "# close the file\n",
        "f.close()"
      ]
    },
    {
      "cell_type": "markdown",
      "source": [
        "#Data Mining"
      ],
      "metadata": {
        "id": "bvnv5wYrqoOg"
      }
    },
    {
      "cell_type": "code",
      "execution_count": null,
      "metadata": {
        "id": "JuKFqee7DSft"
      },
      "outputs": [],
      "source": [
        "regras = apriori(transacoes,min_support=0.002,min_confidence = 0.10,min_lift =1.2, min_length=2,max_length=2)\n",
        "results = list(regras)"
      ]
    },
    {
      "cell_type": "code",
      "execution_count": null,
      "metadata": {
        "id": "8u3GkC8ZHwhk"
      },
      "outputs": [],
      "source": [
        "regras2=apriori(transacoes,min_support=0.003,min_confidence = 0.4,min_lift =3.0, min_length=3,max_length=3)\n",
        "results = list(regras2)"
      ]
    },
    {
      "cell_type": "markdown",
      "source": [
        "#Export Outcome"
      ],
      "metadata": {
        "id": "QFND_dlhqrmh"
      }
    },
    {
      "cell_type": "markdown",
      "source": [
        "After all rules were generated, the file below was exported and imported into a Power BI report for analysis of the business area"
      ],
      "metadata": {
        "id": "Vqae67pmqv8F"
      }
    },
    {
      "cell_type": "code",
      "execution_count": null,
      "metadata": {
        "id": "rGCZgfrqM2le"
      },
      "outputs": [],
      "source": [
        "A=[]\n",
        "B=[]\n",
        "support = []\n",
        "confidence = []\n",
        "lift = []\n",
        "totalTransacoes = len(mybasket)\n",
        "supportQtde = []\n",
        "\n",
        "for result in results:\n",
        "  s =result[1]\n",
        "  result_rules = result[2]\n",
        "  for result_rule in result_rules:\n",
        "    a = listToStringWithoutBrackets(list(result_rule[0]))\n",
        "    b = listToStringWithoutBrackets(list(result_rule[1]))\n",
        "    c = result_rule[2]\n",
        "    l = result_rule[3]\n",
        "    sp = len(mybasket) * s\n",
        "\n",
        "    A.append(a)\n",
        "    B.append(b)\n",
        "    support.append(s * 100)\n",
        "    confidence.append(c * 100)\n",
        "    lift.append(l)\n",
        "    supportQtde.append(sp)\n",
        "\n",
        "rules_df = pd.DataFrame({\n",
        "    'A':A,\n",
        "    'B':B,\n",
        "    'support':support,\n",
        "    'confidence':confidence,\n",
        "    'lift':lift,\n",
        "    'supportQtde': supportQtde\n",
        "})\n",
        "\n",
        "rules_df = rules_df.sort_values(by = 'lift', ascending = False)\n",
        "rules_df.to_excel('/content/drive/MyDrive/Colab Notebooks/Associations/MBA_Pedidos'+ datetime.today().strftime('%d-%m%-H:%M') +'.xlsx')\n"
      ]
    }
  ],
  "metadata": {
    "colab": {
      "machine_shape": "hm",
      "provenance": []
    },
    "kernelspec": {
      "display_name": "Python 3",
      "language": "python",
      "name": "python3"
    },
    "language_info": {
      "codemirror_mode": {
        "name": "ipython",
        "version": 3
      },
      "file_extension": ".py",
      "mimetype": "text/x-python",
      "name": "python",
      "nbconvert_exporter": "python",
      "pygments_lexer": "ipython3",
      "version": "3.8.3"
    },
    "varInspector": {
      "cols": {
        "lenName": 16,
        "lenType": 16,
        "lenVar": 40
      },
      "kernels_config": {
        "python": {
          "delete_cmd_postfix": "",
          "delete_cmd_prefix": "del ",
          "library": "var_list.py",
          "varRefreshCmd": "print(var_dic_list())"
        },
        "r": {
          "delete_cmd_postfix": ") ",
          "delete_cmd_prefix": "rm(",
          "library": "var_list.r",
          "varRefreshCmd": "cat(var_dic_list()) "
        }
      },
      "position": {
        "height": "368.85px",
        "left": "1505px",
        "right": "20px",
        "top": "108px",
        "width": "350px"
      },
      "types_to_exclude": [
        "module",
        "function",
        "builtin_function_or_method",
        "instance",
        "_Feature"
      ],
      "window_display": false
    }
  },
  "nbformat": 4,
  "nbformat_minor": 0
}